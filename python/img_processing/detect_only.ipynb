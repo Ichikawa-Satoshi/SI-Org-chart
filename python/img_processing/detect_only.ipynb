{
 "cells": [
  {
   "cell_type": "code",
   "execution_count": 98,
   "metadata": {},
   "outputs": [],
   "source": [
    "import cv2 as cv2\n",
    "import os\n",
    "import matplotlib.pyplot as plt\n",
    "import easyocr\n",
    "import pyocr\n",
    "import numpy as np\n",
    "from PIL import ImageFont, ImageDraw, Image\n",
    "import sys\n",
    "import re\n",
    "from tqdm import tqdm\n",
    "\n",
    "path = \"/Users/satoshan/Library/CloudStorage/Box-Box/scan_org_charts/\"\n",
    "path_2010 = path + \"2010\""
   ]
  },
  {
   "cell_type": "code",
   "execution_count": 99,
   "metadata": {},
   "outputs": [],
   "source": [
    "def make_file(y, file):\n",
    "    img = cv2.imread(file)\n",
    "    # code detection prepare\n",
    "    if y == 2002:\n",
    "        header = img[50:330, 10:-10]\n",
    "    elif y == 2010:\n",
    "        header = img[50:250, 10:-10]\n",
    "    gray_image = cv2.cvtColor(header, cv2.COLOR_BGR2GRAY)\n",
    "    _, binary_image = cv2.threshold(gray_image, 245, 255, cv2.THRESH_BINARY)\n",
    "    gray_image_inv = cv2.bitwise_not(binary_image)\n",
    "    # code OCR\n",
    "    pil_image = Image.fromarray(gray_image_inv)\n",
    "    tools = pyocr.get_available_tools()\n",
    "    tool = tools[0]\n",
    "    txt = tool.image_to_string(\n",
    "        pil_image,\n",
    "        lang=\"jpn\",\n",
    "        builder=pyocr.builders.TextBuilder(tesseract_layout=6)\n",
    "    )\n",
    "    filtered_text = re.findall(r'\\d+', txt)\n",
    "\n",
    "\n",
    "    # cutting header and edges\n",
    "    header_size = 480\n",
    "    cropped_image = img[header_size:, 10:-10]\n",
    "\n",
    "    # cutting footer\n",
    "    # make figure biniary\n",
    "    gray_image = cv2.cvtColor(cropped_image, cv2.COLOR_BGR2GRAY)\n",
    "    gray_image_inv = cv2.bitwise_not(gray_image)\n",
    "\n",
    "    # footer detection\n",
    "    row_sums = np.sum(gray_image_inv, axis=1) \n",
    "    threshold = 100\n",
    "    empty_row_threshold = 30\n",
    "\n",
    "    empty_row_count = 0\n",
    "    footer_start = None\n",
    "    for i, row_sum in enumerate(row_sums):\n",
    "        if row_sum < threshold:\n",
    "            empty_row_count += 1\n",
    "        else:\n",
    "            empty_row_count = 0\n",
    "        if empty_row_count >= empty_row_threshold:\n",
    "            footer_start = i - empty_row_threshold + 1\n",
    "            break\n",
    "\n",
    "    if footer_start is not None:\n",
    "        final_image = cropped_image[:footer_start, :]\n",
    "    else:\n",
    "        final_image = cropped_image\n",
    "        \n",
    "    return filtered_text, final_image"
   ]
  },
  {
   "cell_type": "code",
   "execution_count": 106,
   "metadata": {},
   "outputs": [
    {
     "name": "stdout",
     "output_type": "stream",
     "text": [
      "2002\n"
     ]
    },
    {
     "name": "stderr",
     "output_type": "stream",
     "text": [
      "Processing files: 100%|██████████| 122/122 [03:05<00:00,  1.52s/it]\n"
     ]
    },
    {
     "name": "stdout",
     "output_type": "stream",
     "text": [
      "2010\n"
     ]
    },
    {
     "name": "stderr",
     "output_type": "stream",
     "text": [
      "Processing files: 100%|██████████| 136/136 [00:29<00:00,  4.60it/s]\n"
     ]
    }
   ],
   "source": [
    "data_list = []\n",
    "pca_list = [] \n",
    "year_list = [2002,2010]\n",
    "\n",
    "path = \"/Users/satoshan/Library/CloudStorage/Box-Box/scan_org_charts/\"\n",
    "\n",
    "for y in year_list:\n",
    "    print(y)\n",
    "    path_y = path + str(y)\n",
    "    files = os.listdir(path_y)\n",
    "    files = [f for f in files if os.path.isfile(os.path.join(path_y, f))]\n",
    "    files.sort()\n",
    "    for i in tqdm(range(len(files)), desc=\"Processing files\"):\n",
    "        file = os.path.join(path_y, files[i])\n",
    "        text, image = make_file(y, file)\n",
    "        if len(image) != 0:\n",
    "            if len(text) > 0:\n",
    "                if len(text[0]) == 4:\n",
    "                    path_save = path + str(y) + \"_reshaped/\" + text[0] + \".png\"\n",
    "                    cv2.imwrite(f\"{path_save}\",image)\n",
    "                else:\n",
    "                    pass\n",
    "            else:\n",
    "                pass\n",
    "        else:\n",
    "            pass"
   ]
  }
 ],
 "metadata": {
  "kernelspec": {
   "display_name": "org_chart",
   "language": "python",
   "name": "python3"
  },
  "language_info": {
   "codemirror_mode": {
    "name": "ipython",
    "version": 3
   },
   "file_extension": ".py",
   "mimetype": "text/x-python",
   "name": "python",
   "nbconvert_exporter": "python",
   "pygments_lexer": "ipython3",
   "version": "3.11.9"
  }
 },
 "nbformat": 4,
 "nbformat_minor": 2
}
