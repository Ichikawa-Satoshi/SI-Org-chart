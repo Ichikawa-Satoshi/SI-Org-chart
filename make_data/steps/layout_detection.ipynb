{
 "cells": [
  {
   "cell_type": "code",
   "execution_count": 6,
   "metadata": {},
   "outputs": [
    {
     "name": "stderr",
     "output_type": "stream",
     "text": [
      "/Users/satoshan/.pyenv/versions/miniforge3-4.10.3-10/envs/org_chart/lib/python3.11/site-packages/fvcore/common/checkpoint.py:252: FutureWarning: You are using `torch.load` with `weights_only=False` (the current default value), which uses the default pickle module implicitly. It is possible to construct malicious pickle data which will execute arbitrary code during unpickling (See https://github.com/pytorch/pytorch/blob/main/SECURITY.md#untrusted-models for more details). In a future release, the default value for `weights_only` will be flipped to `True`. This limits the functions that could be executed during unpickling. Arbitrary objects will no longer be allowed to be loaded via this mode unless they are explicitly allowlisted by the user via `torch.serialization.add_safe_globals`. We recommend you start setting `weights_only=True` for any use case where you don't have full control of the loaded file. Please open an issue on GitHub for any issues related to this experimental feature.\n",
      "  return torch.load(f, map_location=torch.device(\"cpu\"))\n",
      "The checkpoint state_dict contains keys that are not used by the model:\n",
      "  \u001b[35mproposal_generator.anchor_generator.cell_anchors.{0, 1, 2, 3, 4}\u001b[0m\n"
     ]
    }
   ],
   "source": [
    "\t\n",
    "import cv2 as cv2\n",
    "import os\n",
    "import matplotlib.pyplot as plt\n",
    "from PIL import Image\n",
    "import numpy as np\n",
    "from PIL import ImageFont, ImageDraw, Image\n",
    "import sys\n",
    "import re\n",
    "from tqdm import tqdm\n",
    "import layoutparser as lp\n",
    "# from google.colab import drive\n",
    "# drive.mount('/content/drive')\n",
    "path = \"/Users/satoshan/Library/CloudStorage/GoogleDrive-sato41kawa0707@gmail.com/マイドライブ/scan_org_charts/data/renamed/\"\n",
    "files = os.listdir(path)\n",
    "files = [f for f in files if os.path.isfile(os.path.join(path, f))]\n",
    "files.sort()\n",
    "model = lp.Detectron2LayoutModel('lp://PubLayNet/faster_rcnn_R_50_FPN_3x/config', \n",
    "                                 extra_config=[\"MODEL.ROI_HEADS.SCORE_THRESH_TEST\", 0.8],\n",
    "                                 label_map={0: \"Text\", 1: \"Title\", 2: \"List\", 3:\"Table\", 4:\"Figure\"})"
   ]
  },
  {
   "cell_type": "code",
   "execution_count": 7,
   "metadata": {},
   "outputs": [
    {
     "name": "stderr",
     "output_type": "stream",
     "text": [
      "Processing files: 100%|██████████| 992/992 [21:22<00:00,  1.29s/it]\n"
     ]
    }
   ],
   "source": [
    "for j in tqdm(range(1,len(files)), desc=\"Processing files\"):\n",
    "    # load image\n",
    "    file = os.path.join(path, files[j])\n",
    "    img = cv2.imread(file)\n",
    "    # detection\n",
    "    layout = model.detect(img)\n",
    "    lp.draw_box(img, layout, box_width=3)\n",
    "    figures = [block for block in layout if block.type == \"Figure\"]\n",
    "    # crop\n",
    "    for i, figure in enumerate(figures):\n",
    "        x_1, y_1, x_2, y_2 = map(int, figure.coordinates)  \n",
    "        cropped_img = img[350:y_2, 50:x_2] \n",
    "        path_save = \"/Users/satoshan/Library/CloudStorage/GoogleDrive-sato41kawa0707@gmail.com/マイドライブ/scan_org_charts/data/cropped/\" + files[j]\n",
    "        cv2.imwrite(f\"{path_save}\", cropped_img)"
   ]
  }
 ],
 "metadata": {
  "kernelspec": {
   "display_name": "org_chart",
   "language": "python",
   "name": "python3"
  },
  "language_info": {
   "codemirror_mode": {
    "name": "ipython",
    "version": 3
   },
   "file_extension": ".py",
   "mimetype": "text/x-python",
   "name": "python",
   "nbconvert_exporter": "python",
   "pygments_lexer": "ipython3",
   "version": "3.11.9"
  }
 },
 "nbformat": 4,
 "nbformat_minor": 2
}
