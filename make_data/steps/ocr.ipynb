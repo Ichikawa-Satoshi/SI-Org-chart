{
 "cells": [
  {
   "cell_type": "code",
   "execution_count": 80,
   "metadata": {},
   "outputs": [],
   "source": [
    "import cv2 as cv2\n",
    "import os\n",
    "import matplotlib.pyplot as plt\n",
    "import pyocr\n",
    "from PIL import Image\n",
    "from tqdm import tqdm\n",
    "import re\n",
    "import numpy as np\n",
    "\n",
    "path = \"/Users/satoshan/Library/CloudStorage/GoogleDrive-sato41kawa0707@gmail.com/マイドライブ/scan_org_charts/data/\"\n",
    "path_2010 = path + \"2010\"\n",
    "path_2006 = path + \"2006\"\n",
    "path_2002_7 = path + \"2002/7000~7999\"\n",
    "path_2002_8 = path + \"2002/8000~8999\"\n",
    "path_2002_9 = path + \"2002/9000~9999\""
   ]
  },
  {
   "cell_type": "code",
   "execution_count": 81,
   "metadata": {},
   "outputs": [
    {
     "name": "stdout",
     "output_type": "stream",
     "text": [
      "2000:  7000~7999\n"
     ]
    },
    {
     "name": "stderr",
     "output_type": "stream",
     "text": [
      "Processing files:   0%|          | 0/440 [00:00<?, ?it/s]"
     ]
    },
    {
     "name": "stderr",
     "output_type": "stream",
     "text": [
      "Processing files: 100%|██████████| 440/440 [01:49<00:00,  4.03it/s]\n"
     ]
    },
    {
     "name": "stdout",
     "output_type": "stream",
     "text": [
      "2000:  8000~8999\n"
     ]
    },
    {
     "name": "stderr",
     "output_type": "stream",
     "text": [
      "Processing files: 100%|██████████| 746/746 [02:23<00:00,  5.19it/s]\n"
     ]
    },
    {
     "name": "stdout",
     "output_type": "stream",
     "text": [
      "2000:  9000~9999\n"
     ]
    },
    {
     "name": "stderr",
     "output_type": "stream",
     "text": [
      "Processing files: 100%|██████████| 530/530 [02:13<00:00,  3.98it/s]\n"
     ]
    }
   ],
   "source": [
    "# 2000\n",
    "## 7000~7999 \n",
    "print(\"2000:  7000~7999\")\n",
    "files = os.listdir(path_2002_7)\n",
    "files = [f for f in files if os.path.isfile(os.path.join(path_2002_7, f))]\n",
    "files.sort()\n",
    "for i in tqdm(range(len(files)), desc=\"Processing files\"):\n",
    "    # load image\n",
    "    file = os.path.join(path_2002_7, files[i])\n",
    "    img = cv2.imread(file)\n",
    "    # preprocessing for OCR\n",
    "    header = img[0:250, 10:-1500]\n",
    "    gray_image = cv2.cvtColor(header, cv2.COLOR_BGR2GRAY)\n",
    "    gray_image_inv = cv2.bitwise_not(gray_image)\n",
    "    pil_image = Image.fromarray(gray_image)\n",
    "    tools = pyocr.get_available_tools()\n",
    "    tool = tools[0]\n",
    "    txt = tool.image_to_string(\n",
    "        pil_image,\n",
    "        lang=\"eng\",\n",
    "        builder=pyocr.builders.TextBuilder(tesseract_layout=6)\n",
    "    )\n",
    "    filtered_text = re.findall(r'\\d+', txt)\n",
    "    if len(filtered_text) >= 1:\n",
    "        if len(filtered_text[0]) == 4 and filtered_text[0].startswith('7'):\n",
    "                path_save = path + \"renamed/2002_\" + filtered_text[0] + \".png\"\n",
    "                cv2.imwrite(f\"{path_save}\", img)\n",
    "\n",
    "# 8000~8999\n",
    "print(\"2000:  8000~8999\")\n",
    "files = os.listdir(path_2002_8)\n",
    "files = [f for f in files if os.path.isfile(os.path.join(path_2002_8, f))]\n",
    "files.sort()\n",
    "for i in tqdm(range(len(files)), desc=\"Processing files\"):\n",
    "    # load image\n",
    "    file = os.path.join(path_2002_8, files[i])\n",
    "    img = cv2.imread(file)\n",
    "    # preprocessing for OCR\n",
    "    header = img[0:250, 10:-1450]\n",
    "    gray_image = cv2.cvtColor(header, cv2.COLOR_BGR2GRAY)\n",
    "    gray_image_inv = cv2.bitwise_not(gray_image)\n",
    "    pil_image = Image.fromarray(gray_image)\n",
    "    tools = pyocr.get_available_tools()\n",
    "    tool = tools[0]\n",
    "    txt = tool.image_to_string(\n",
    "        pil_image,\n",
    "        lang=\"eng\",\n",
    "        builder=pyocr.builders.TextBuilder(tesseract_layout=6)\n",
    "    )\n",
    "    filtered_text = re.findall(r'\\d+', txt)\n",
    "    if len(filtered_text) >= 1:\n",
    "        if len(filtered_text[0]) == 4 and filtered_text[0].startswith('8'):\n",
    "                path_save = path + \"renamed/2002_\" + filtered_text[0] + \".png\"\n",
    "                cv2.imwrite(f\"{path_save}\", img)\n",
    "\n",
    "## 9000~9999\n",
    "print(\"2000:  9000~9999\")\n",
    "files = os.listdir(path_2002_9)\n",
    "files = [f for f in files if os.path.isfile(os.path.join(path_2002_9, f))]\n",
    "files.sort()\n",
    "for i in tqdm(range(len(files)), desc=\"Processing files\"):\n",
    "    # load image\n",
    "    file = os.path.join(path_2002_9, files[i])\n",
    "    img = cv2.imread(file)\n",
    "    # preprocessing for OCR\n",
    "    header = img[0:250, 10:-1350]\n",
    "    gray_image = cv2.cvtColor(header, cv2.COLOR_BGR2GRAY)\n",
    "    gray_image_inv = cv2.bitwise_not(gray_image)\n",
    "    pil_image = Image.fromarray(gray_image)\n",
    "    tools = pyocr.get_available_tools()\n",
    "    tool = tools[0]\n",
    "    txt = tool.image_to_string(\n",
    "        pil_image,\n",
    "        lang=\"eng\",\n",
    "        builder=pyocr.builders.TextBuilder(tesseract_layout=6)\n",
    "    )\n",
    "    filtered_text = re.findall(r'\\d+', txt)\n",
    "    if len(filtered_text) >= 1:\n",
    "        if len(filtered_text[0]) == 4 and filtered_text[0].startswith('9'):\n",
    "                path_save = path + \"renamed/2002_\" + filtered_text[0] + \".png\"\n",
    "                cv2.imwrite(f\"{path_save}\", img)"
   ]
  },
  {
   "cell_type": "code",
   "execution_count": 53,
   "metadata": {},
   "outputs": [
    {
     "name": "stderr",
     "output_type": "stream",
     "text": [
      "Processing files:   0%|          | 0/530 [00:00<?, ?it/s]"
     ]
    },
    {
     "name": "stderr",
     "output_type": "stream",
     "text": [
      "Processing files: 100%|██████████| 530/530 [17:29<00:00,  1.98s/it]\n"
     ]
    }
   ],
   "source": [
    "files = os.listdir(path_2002_9)\n",
    "files = [f for f in files if os.path.isfile(os.path.join(path_2002_9, f))]\n",
    "files.sort()\n",
    "for i in tqdm(range(len(files)), desc=\"Processing files\"):\n",
    "    # load image\n",
    "    file = os.path.join(path_2002_9, files[i])\n",
    "    img = cv2.imread(file)\n",
    "    # preprocessing for OCR\n",
    "    header = img[0:250, 10:-1400]\n",
    "    gray_image = cv2.cvtColor(header, cv2.COLOR_BGR2GRAY)\n",
    "    gray_image_inv = cv2.bitwise_not(gray_image)\n",
    "    pil_image = Image.fromarray(gray_image)\n",
    "    tools = pyocr.get_available_tools()\n",
    "    tool = tools[0]\n",
    "    txt = tool.image_to_string(\n",
    "        pil_image,\n",
    "        lang=\"eng\",\n",
    "        builder=pyocr.builders.TextBuilder(tesseract_layout=6)\n",
    "    )\n",
    "    filtered_text = re.findall(r'\\d+', txt)\n",
    "    if len(filtered_text) >= 1:\n",
    "        if len(filtered_text[0]) == 4 and filtered_text[0].startswith('9'):\n",
    "                path_save = path + \"renamed/2002_\" + filtered_text[0] + \".png\"\n",
    "                cv2.imwrite(f\"{path_save}\", img)"
   ]
  },
  {
   "cell_type": "code",
   "execution_count": 82,
   "metadata": {},
   "outputs": [
    {
     "name": "stderr",
     "output_type": "stream",
     "text": [
      "Processing files:  17%|█▋        | 1/6 [00:00<00:00,  8.63it/s]"
     ]
    },
    {
     "name": "stdout",
     "output_type": "stream",
     "text": [
      "['7']\n",
      "['7984']\n"
     ]
    },
    {
     "name": "stderr",
     "output_type": "stream",
     "text": [
      "Processing files:  50%|█████     | 3/6 [00:00<00:00,  6.14it/s]"
     ]
    },
    {
     "name": "stdout",
     "output_type": "stream",
     "text": [
      "['7']\n",
      "['7987']\n"
     ]
    },
    {
     "name": "stderr",
     "output_type": "stream",
     "text": [
      "Processing files:  83%|████████▎ | 5/6 [00:00<00:00,  5.39it/s]"
     ]
    },
    {
     "name": "stdout",
     "output_type": "stream",
     "text": [
      "['7']\n",
      "['7989']\n"
     ]
    },
    {
     "name": "stderr",
     "output_type": "stream",
     "text": [
      "Processing files: 100%|██████████| 6/6 [00:01<00:00,  5.05it/s]\n",
      "Processing files:   7%|▋         | 1/14 [00:01<00:24,  1.86s/it]"
     ]
    },
    {
     "name": "stdout",
     "output_type": "stream",
     "text": [
      "['0', '9', '1', '2', '4', '7', '6', '3', '16', '5', '1', '49', '4', '1', '2', '1', '1', '9', '211', '5', '1', '2', '4', '2', '5', '2', '44', '2', '7', '1']\n",
      "['7003']\n"
     ]
    },
    {
     "name": "stderr",
     "output_type": "stream",
     "text": [
      "Processing files:  21%|██▏       | 3/14 [00:02<00:06,  1.70it/s]"
     ]
    },
    {
     "name": "stdout",
     "output_type": "stream",
     "text": [
      "[]\n",
      "['7501']\n"
     ]
    },
    {
     "name": "stderr",
     "output_type": "stream",
     "text": [
      "Processing files:  43%|████▎     | 6/14 [00:02<00:02,  3.46it/s]"
     ]
    },
    {
     "name": "stdout",
     "output_type": "stream",
     "text": [
      "['5']\n",
      "[]\n"
     ]
    },
    {
     "name": "stderr",
     "output_type": "stream",
     "text": [
      "Processing files:  57%|█████▋    | 8/14 [00:03<00:01,  4.66it/s]"
     ]
    },
    {
     "name": "stdout",
     "output_type": "stream",
     "text": [
      "[]\n",
      "[]\n"
     ]
    },
    {
     "name": "stderr",
     "output_type": "stream",
     "text": [
      "Processing files:  71%|███████▏  | 10/14 [00:03<00:00,  6.03it/s]"
     ]
    },
    {
     "name": "stdout",
     "output_type": "stream",
     "text": [
      "[]\n",
      "[]\n"
     ]
    },
    {
     "name": "stderr",
     "output_type": "stream",
     "text": [
      "Processing files:  86%|████████▌ | 12/14 [00:03<00:00,  7.07it/s]"
     ]
    },
    {
     "name": "stdout",
     "output_type": "stream",
     "text": [
      "[]\n",
      "[]\n"
     ]
    },
    {
     "name": "stderr",
     "output_type": "stream",
     "text": [
      "Processing files: 100%|██████████| 14/14 [00:03<00:00,  3.51it/s]\n"
     ]
    },
    {
     "name": "stdout",
     "output_type": "stream",
     "text": [
      "[]\n",
      "[]\n"
     ]
    },
    {
     "name": "stderr",
     "output_type": "stream",
     "text": [
      "Processing files:   6%|▋         | 1/16 [00:00<00:01,  8.78it/s]"
     ]
    },
    {
     "name": "stdout",
     "output_type": "stream",
     "text": [
      "[]\n",
      "['1518']\n"
     ]
    },
    {
     "name": "stderr",
     "output_type": "stream",
     "text": [
      "Processing files:  19%|█▉        | 3/16 [00:00<00:02,  5.77it/s]"
     ]
    },
    {
     "name": "stdout",
     "output_type": "stream",
     "text": [
      "[]\n",
      "['2122']\n"
     ]
    },
    {
     "name": "stderr",
     "output_type": "stream",
     "text": [
      "Processing files:  31%|███▏      | 5/16 [00:01<00:02,  4.34it/s]"
     ]
    },
    {
     "name": "stdout",
     "output_type": "stream",
     "text": [
      "['2121']\n"
     ]
    },
    {
     "name": "stderr",
     "output_type": "stream",
     "text": [
      "Processing files:  38%|███▊      | 6/16 [00:01<00:02,  4.13it/s]"
     ]
    },
    {
     "name": "stdout",
     "output_type": "stream",
     "text": [
      "['2122']\n"
     ]
    },
    {
     "name": "stderr",
     "output_type": "stream",
     "text": [
      "Processing files:  44%|████▍     | 7/16 [00:01<00:02,  4.05it/s]"
     ]
    },
    {
     "name": "stdout",
     "output_type": "stream",
     "text": [
      "['2155']\n"
     ]
    },
    {
     "name": "stderr",
     "output_type": "stream",
     "text": [
      "Processing files:  50%|█████     | 8/16 [00:01<00:02,  3.92it/s]"
     ]
    },
    {
     "name": "stdout",
     "output_type": "stream",
     "text": [
      "['2156']\n"
     ]
    },
    {
     "name": "stderr",
     "output_type": "stream",
     "text": [
      "Processing files:  56%|█████▋    | 9/16 [00:01<00:01,  4.60it/s]"
     ]
    },
    {
     "name": "stdout",
     "output_type": "stream",
     "text": [
      "[]\n",
      "['2925']\n"
     ]
    },
    {
     "name": "stderr",
     "output_type": "stream",
     "text": [
      "Processing files:  75%|███████▌  | 12/16 [00:02<00:00,  5.90it/s]"
     ]
    },
    {
     "name": "stdout",
     "output_type": "stream",
     "text": [
      "[]\n",
      "['4']\n"
     ]
    },
    {
     "name": "stderr",
     "output_type": "stream",
     "text": [
      "Processing files:  88%|████████▊ | 14/16 [00:02<00:00,  6.91it/s]"
     ]
    },
    {
     "name": "stdout",
     "output_type": "stream",
     "text": [
      "[]\n",
      "[]\n"
     ]
    },
    {
     "name": "stderr",
     "output_type": "stream",
     "text": [
      "Processing files: 100%|██████████| 16/16 [00:02<00:00,  5.50it/s]"
     ]
    },
    {
     "name": "stdout",
     "output_type": "stream",
     "text": [
      "[]\n",
      "[]\n"
     ]
    },
    {
     "name": "stderr",
     "output_type": "stream",
     "text": [
      "\n"
     ]
    }
   ],
   "source": [
    "# # 2006\n",
    "# files = os.listdir(path_2006)\n",
    "# files = [f for f in files if os.path.isfile(os.path.join(path_2006, f))]\n",
    "# files.sort()\n",
    "# for i in tqdm(range(len(files)), desc=\"Processing files\"):\n",
    "#     # load image\n",
    "#     file = os.path.join(path_2006, files[i])\n",
    "#     img = cv2.imread(file)\n",
    "#     # preprocessing for OCR\n",
    "#     header = img[0:250, 0:-1500]\n",
    "#     header = cv2.resize(header, None, fx=2, fy=2, interpolation=cv2.INTER_CUBIC)\n",
    "#     gray_image = cv2.GaussianBlur(header, (3, 3), 0)\n",
    "#     gray_image = cv2.cvtColor(header, cv2.COLOR_BGR2GRAY)\n",
    "#     binary_image = cv2.adaptiveThreshold(\n",
    "#         gray_image, 255, cv2.ADAPTIVE_THRESH_GAUSSIAN_C, cv2.THRESH_BINARY, 21, 9\n",
    "#     )\n",
    "#     kernel = np.ones((5,5), np.uint8)\n",
    "#     binary_image = cv2.morphologyEx(binary_image, cv2.MORPH_OPEN, kernel, iterations=1)\n",
    "#     gray_image_inv = cv2.bitwise_not(binary_image)\n",
    "#     pil_image = Image.fromarray(gray_image)\n",
    "#     tools = pyocr.get_available_tools()\n",
    "#     tool = tools[0]\n",
    "#     txt = tool.image_to_string(\n",
    "#         pil_image,\n",
    "#         lang=\"jpn\",\n",
    "#         builder=pyocr.builders.TextBuilder(tesseract_layout=6)\n",
    "#     )\n",
    "#     filtered_text = re.findall(r'\\d+', txt)\n",
    "#     print(filtered_text)\n",
    "#     if len(filtered_text) >= 1:\n",
    "#             if len(filtered_text[0]) == 4:\n",
    "#                     path_save = path + \"renamed/2006_\" + filtered_text[0] + \".png\"\n",
    "#                     cv2.imwrite(f\"{path_save}\", img)\n",
    "\n",
    "\n",
    "# # 2010\n",
    "# files = os.listdir(path_2010)\n",
    "# files = [f for f in files if os.path.isfile(os.path.join(path_2010, f))]\n",
    "# files.sort()\n",
    "# for i in tqdm(range(len(files)), desc=\"Processing files\"):\n",
    "#     # load image\n",
    "#     file = os.path.join(path_2010, files[i])\n",
    "#     img = cv2.imread(file)\n",
    "#     # preprocessing for OCR\n",
    "#     header = img[0:200, 0:-1500]\n",
    "#     header = cv2.resize(header, None, fx=2, fy=2, interpolation=cv2.INTER_CUBIC)\n",
    "#     gray_image = cv2.GaussianBlur(header, (3, 3), 0)\n",
    "#     gray_image = cv2.cvtColor(header, cv2.COLOR_BGR2GRAY)\n",
    "#     binary_image = cv2.adaptiveThreshold(\n",
    "#         gray_image, 255, cv2.ADAPTIVE_THRESH_GAUSSIAN_C, cv2.THRESH_BINARY, 21, 9\n",
    "#     )\n",
    "#     kernel = np.ones((5,5), np.uint8)\n",
    "#     binary_image = cv2.morphologyEx(binary_image, cv2.MORPH_OPEN, kernel, iterations=1)\n",
    "#     gray_image_inv = cv2.bitwise_not(binary_image)\n",
    "#     pil_image = Image.fromarray(gray_image)\n",
    "#     tools = pyocr.get_available_tools()\n",
    "#     tool = tools[0]\n",
    "#     txt = tool.image_to_string(\n",
    "#         pil_image,\n",
    "#         lang=\"jpn\",\n",
    "#         builder=pyocr.builders.TextBuilder(tesseract_layout=6)\n",
    "#     )\n",
    "#     filtered_text = re.findall(r'\\d+', txt)\n",
    "#     print(filtered_text)\n",
    "#     if len(filtered_text) > 0:\n",
    "#             if len(filtered_text[0]) == 4:\n",
    "#                     path_save = path + \"renamed/2010_\" + filtered_text[0] + \".png\"\n",
    "#                     cv2.imwrite(f\"{path_save}\", img)"
   ]
  }
 ],
 "metadata": {
  "kernelspec": {
   "display_name": "org_chart",
   "language": "python",
   "name": "python3"
  },
  "language_info": {
   "codemirror_mode": {
    "name": "ipython",
    "version": 3
   },
   "file_extension": ".py",
   "mimetype": "text/x-python",
   "name": "python",
   "nbconvert_exporter": "python",
   "pygments_lexer": "ipython3",
   "version": "3.11.9"
  }
 },
 "nbformat": 4,
 "nbformat_minor": 2
}
