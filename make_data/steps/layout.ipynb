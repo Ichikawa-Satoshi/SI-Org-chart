{
 "cells": [
  {
   "cell_type": "code",
   "execution_count": null,
   "metadata": {},
   "outputs": [],
   "source": [
    "\t\n",
    "import cv2 as cv2\n",
    "import os\n",
    "import matplotlib.pyplot as plt\n",
    "from PIL import Image\n",
    "import numpy as np\n",
    "from PIL import ImageFont, ImageDraw, Image\n",
    "import sys\n",
    "import re\n",
    "from tqdm import tqdm"
   ]
  },
  {
   "cell_type": "code",
   "execution_count": 3,
   "metadata": {},
   "outputs": [],
   "source": [
    "import json\n",
    "\n",
    "path = \"/Users/satoshan/Library/CloudStorage/GoogleDrive-sato41kawa0707@gmail.com/マイドライブ/SI-Org-chart/data/Org_chart/file_code_year.json\"\n",
    "with open(path, 'r', encoding='utf-8') as file:\n",
    "    metadata = json.load(file)"
   ]
  },
  {
   "cell_type": "code",
   "execution_count": 37,
   "metadata": {},
   "outputs": [
    {
     "name": "stderr",
     "output_type": "stream",
     "text": [
      "100%|██████████| 7896/7896 [17:31<00:00,  7.51it/s]\n"
     ]
    }
   ],
   "source": [
    "for j in tqdm(range(len(metadata))):\n",
    "    file = metadata[j][\"fig_path\"]\n",
    "    id = str(metadata[j][\"year\"]) + \"_\" + str(metadata[j][\"code\"]) + \".png\"\n",
    "    img = cv2.imread(file)\n",
    "    cropped_img = img[300:-150, :] \n",
    "    path_save = \"/Users/satoshan/Library/CloudStorage/GoogleDrive-sato41kawa0707@gmail.com/マイドライブ/SI-Org-Chart/data/Org_chart/cropped/\" + id\n",
    "    cv2.imwrite(f\"{path_save}\", cropped_img)"
   ]
  }
 ],
 "metadata": {
  "kernelspec": {
   "display_name": "org_chart",
   "language": "python",
   "name": "python3"
  },
  "language_info": {
   "codemirror_mode": {
    "name": "ipython",
    "version": 3
   },
   "file_extension": ".py",
   "mimetype": "text/x-python",
   "name": "python",
   "nbconvert_exporter": "python",
   "pygments_lexer": "ipython3",
   "version": "3.11.9"
  }
 },
 "nbformat": 4,
 "nbformat_minor": 2
}
