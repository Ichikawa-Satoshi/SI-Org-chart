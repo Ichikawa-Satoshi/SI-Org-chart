{
 "cells": [
  {
   "cell_type": "code",
   "execution_count": 17,
   "metadata": {},
   "outputs": [],
   "source": [
    "import networkx as nx\n",
    "import numpy as np\n",
    "import matplotlib.pyplot as plt\n",
    "import pandas as pd\n",
    "import cv2 as cv2\n",
    "from PIL import Image\n",
    "import os\n",
    "import re\n",
    "import json\n",
    "from tqdm import tqdm"
   ]
  },
  {
   "cell_type": "code",
   "execution_count": 18,
   "metadata": {},
   "outputs": [],
   "source": [
    "path = \"/Users/satoshan/Library/CloudStorage/Box-Box/scan_org_charts/cropped/\"\n",
    "path_json = \"/Users/satoshan/Library/CloudStorage/Box-Box/scan_org_charts/learning/output\"\n",
    "path_clean = \"/Users/satoshan/Library/CloudStorage/Box-Box/scan_org_charts/clean/\"\n",
    "files = os.listdir(path)\n",
    "files = [f for f in files if os.path.isfile(os.path.join(path, f))]\n",
    "\n",
    "files_json = os.listdir(path_json)\n",
    "files_json = [f for f in files_json if os.path.isfile(os.path.join(path_json, f))]"
   ]
  },
  {
   "cell_type": "code",
   "execution_count": 23,
   "metadata": {},
   "outputs": [
    {
     "name": "stderr",
     "output_type": "stream",
     "text": [
      "Processing files: 100%|██████████| 101/101 [00:00<00:00, 104.41it/s]\n"
     ]
    }
   ],
   "source": [
    "results = []\n",
    "\n",
    "for i in tqdm(range(len(files)), desc=\"Processing files\"):\n",
    "    file = os.path.join(path, files[i])\n",
    "    file_json = os.path.join(path_json, files_json[i])\n",
    "    image = Image.open(file) \n",
    "    image_width, image_height = image.size \n",
    "    with open(file_json, \"r\") as f:\n",
    "        data = json.load(f)\n",
    "    # the coordation of the centers of department\n",
    "    centers = []\n",
    "    for i, box in enumerate(data[\"pred_boxes\"]):\n",
    "        x_center = int((box[0] + box[2]) / 2)\n",
    "        y_center = int((box[1] + box[3]) / 2)\n",
    "\n",
    "        # Normalize the image size\n",
    "        x_normalized = (x_center / image_width) * 10\n",
    "        y_normalized = (y_center / image_height) * 10\n",
    "        centers.append({\"id\": i, \"center\": (x_normalized, y_normalized)})\n",
    "\n",
    "    # make graph\n",
    "    G = nx.Graph()\n",
    "    # Add nodes to graph\n",
    "    for center in centers:\n",
    "        G.add_node(center[\"id\"], pos=center[\"center\"])\n",
    "    # Add edges to graph \n",
    "    distance_threshold = 4.5\n",
    "    for i in range(len(centers)):\n",
    "        for j in range(i + 1, len(centers)):\n",
    "            dist = np.linalg.norm(np.array(centers[i][\"center\"]) - np.array(centers[j][\"center\"]))\n",
    "            if dist < distance_threshold:\n",
    "                G.add_edge(centers[i][\"id\"], centers[j][\"id\"], weight=dist)\n",
    "\n",
    "    pos = nx.get_node_attributes(G, \"pos\")\n",
    "    shortest_length_path = nx.average_shortest_path_length(G)\n",
    "    num_depart = len(centers)\n",
    "    match = re.search(r\"cropped_(\\d{4})_(\\d{4})\", file)\n",
    "    if match:\n",
    "        year = match.group(1)  # Extracts the year (e.g., \"2002\")\n",
    "        code = match.group(2)  # Extracts the code (e.g., \"7003\")\n",
    "    else:\n",
    "        year = None\n",
    "        code = None\n",
    "\n",
    "    results.append({\"code\": code, \"year\": year , \"shortest_path_length\": shortest_length_path, \"num_depart\": num_depart})\n"
   ]
  },
  {
   "cell_type": "code",
   "execution_count": 24,
   "metadata": {},
   "outputs": [
    {
     "data": {
      "text/plain": [
       "76"
      ]
     },
     "execution_count": 24,
     "metadata": {},
     "output_type": "execute_result"
    }
   ],
   "source": [
    "i = 9\n",
    "file_json = os.path.join(path_json, files_json[i])\n",
    "with open(file_json, \"r\") as f:\n",
    "    data = json.load(f)\n",
    "non_zero_boxes = [box for box in data[\"pred_boxes\"] if any(coord != 0 for coord in box)]\n",
    "len(non_zero_boxes)"
   ]
  },
  {
   "cell_type": "code",
   "execution_count": 25,
   "metadata": {},
   "outputs": [],
   "source": [
    "df = pd.DataFrame(results)\n",
    "df.to_csv(os.path.join(path_clean, \"org_data.csv\"))"
   ]
  },
  {
   "cell_type": "code",
   "execution_count": null,
   "metadata": {},
   "outputs": [],
   "source": []
  }
 ],
 "metadata": {
  "kernelspec": {
   "display_name": "org_chart",
   "language": "python",
   "name": "python3"
  },
  "language_info": {
   "codemirror_mode": {
    "name": "ipython",
    "version": 3
   },
   "file_extension": ".py",
   "mimetype": "text/x-python",
   "name": "python",
   "nbconvert_exporter": "python",
   "pygments_lexer": "ipython3",
   "version": "3.11.9"
  }
 },
 "nbformat": 4,
 "nbformat_minor": 2
}
