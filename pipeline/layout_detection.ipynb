{
 "cells": [
  {
   "cell_type": "code",
   "execution_count": 1,
   "metadata": {},
   "outputs": [],
   "source": [
    "import cv2 as cv2\n",
    "import os\n",
    "import matplotlib.pyplot as plt\n",
    "from PIL import Image\n",
    "import numpy as np\n",
    "from PIL import ImageFont, ImageDraw, Image\n",
    "import sys\n",
    "import re\n",
    "from tqdm import tqdm\n",
    "import layoutparser as lp\n"
   ]
  },
  {
   "cell_type": "code",
   "execution_count": 70,
   "metadata": {},
   "outputs": [
    {
     "name": "stderr",
     "output_type": "stream",
     "text": [
      "The checkpoint state_dict contains keys that are not used by the model:\n",
      "  \u001b[35mproposal_generator.anchor_generator.cell_anchors.{0, 1, 2, 3, 4}\u001b[0m\n",
      "Processing files: 100%|██████████| 109/109 [02:04<00:00,  1.14s/it]\n"
     ]
    }
   ],
   "source": [
    "path = \"/Users/satoshan/Library/CloudStorage/Box-Box/scan_org_charts/renamed/\"\n",
    "files = os.listdir(path)\n",
    "files = [f for f in files if os.path.isfile(os.path.join(path, f))]\n",
    "files.sort()\n",
    "file = os.path.join(path, files[4])\n",
    "model = lp.Detectron2LayoutModel('lp://PubLayNet/faster_rcnn_R_50_FPN_3x/config', \n",
    "                                 extra_config=[\"MODEL.ROI_HEADS.SCORE_THRESH_TEST\", 0.8],\n",
    "                                 label_map={0: \"Text\", 1: \"Title\", 2: \"List\", 3:\"Table\", 4:\"Figure\"})\n",
    "\n",
    "for j in tqdm(range(len(files)), desc=\"Processing files\"):\n",
    "    # load image\n",
    "    file = os.path.join(path, files[j])\n",
    "    img = cv2.imread(file)\n",
    "    # detection\n",
    "    layout = model.detect(img)\n",
    "    lp.draw_box(img, layout, box_width=3)\n",
    "    figures = [block for block in layout if block.type == \"Figure\"]\n",
    "\n",
    "    # crop\n",
    "    for i, figure in enumerate(figures):\n",
    "        x_1, y_1, x_2, y_2 = map(int, figure.coordinates)  \n",
    "        cropped_img = img[480:y_2, 50:x_2] \n",
    "\n",
    "        path_save = \"/Users/satoshan/Library/CloudStorage/Box-Box/scan_org_charts/cropped/cropped_\" + files[j] + \".png\"\n",
    "        cv2.imwrite(f\"{path_save}\", cropped_img)\n"
   ]
  }
 ],
 "metadata": {
  "kernelspec": {
   "display_name": "org_chart",
   "language": "python",
   "name": "python3"
  },
  "language_info": {
   "codemirror_mode": {
    "name": "ipython",
    "version": 3
   },
   "file_extension": ".py",
   "mimetype": "text/x-python",
   "name": "python",
   "nbconvert_exporter": "python",
   "pygments_lexer": "ipython3",
   "version": "3.11.9"
  }
 },
 "nbformat": 4,
 "nbformat_minor": 2
}
