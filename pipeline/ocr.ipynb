{
 "cells": [
  {
   "cell_type": "code",
   "execution_count": 9,
   "metadata": {},
   "outputs": [],
   "source": [
    "import cv2 as cv2\n",
    "import os\n",
    "import matplotlib.pyplot as plt\n",
    "import pyocr\n",
    "from PIL import Image\n",
    "from tqdm import tqdm\n",
    "import re\n",
    "\n",
    "path = \"/Users/satoshan/Library/CloudStorage/Box-Box/scan_org_charts/\"\n",
    "path_2010 = path + \"2010\"\n",
    "path_2006 = path + \"2006\"\n",
    "path_2002 = path + \"2002\""
   ]
  },
  {
   "cell_type": "code",
   "execution_count": 13,
   "metadata": {},
   "outputs": [
    {
     "name": "stderr",
     "output_type": "stream",
     "text": [
      "Processing files: 100%|██████████| 136/136 [00:30<00:00,  4.39it/s]\n"
     ]
    }
   ],
   "source": [
    "# 2002\n",
    "files = os.listdir(path_2002)\n",
    "files = [f for f in files if os.path.isfile(os.path.join(path_2002, f))]\n",
    "files.sort()\n",
    "for i in tqdm(range(len(files)), desc=\"Processing files\"):\n",
    "    # load image\n",
    "    file = os.path.join(path_2002, files[i])\n",
    "    img = cv2.imread(file)\n",
    "    # preprocessing for OCR\n",
    "    header = img[0:350, 0:-1500]\n",
    "    gray_image = cv2.GaussianBlur(gray_image, (5, 5), 0)\n",
    "    gray_image = cv2.equalizeHist(gray_image)\n",
    "    gray_image = cv2.cvtColor(header, cv2.COLOR_BGR2GRAY)\n",
    "    binary_image = cv2.adaptiveThreshold(\n",
    "        gray_image, 255, cv2.ADAPTIVE_THRESH_GAUSSIAN_C, cv2.THRESH_BINARY, 11, 2\n",
    "    )\n",
    "    gray_image_inv = cv2.bitwise_not(binary_image)\n",
    "    pil_image = Image.fromarray(gray_image_inv)\n",
    "    tools = pyocr.get_available_tools()\n",
    "    tool = tools[0]\n",
    "    txt = tool.image_to_string(\n",
    "        pil_image,\n",
    "        lang=\"eng\",\n",
    "        builder=pyocr.builders.TextBuilder(tesseract_layout=6)\n",
    "    )\n",
    "    filtered_text = re.findall(r'\\d+', txt)\n",
    "    if len(filtered_text) > 1:\n",
    "            if len(filtered_text[0]) == 4:\n",
    "                    path_save = path + \"renamed/2002_\" + filtered_text[0] + \".png\"\n",
    "                    cv2.imwrite(f\"{path_save}\", img)\n",
    "\n",
    "\n",
    "\n",
    "# 2010\n",
    "files = os.listdir(path_2010)\n",
    "files = [f for f in files if os.path.isfile(os.path.join(path_2010, f))]\n",
    "files.sort()\n",
    "for i in tqdm(range(len(files)), desc=\"Processing files\"):\n",
    "    # load image\n",
    "    file = os.path.join(path_2010, files[i])\n",
    "    img = cv2.imread(file)\n",
    "    # preprocessing for OCR\n",
    "    header = img[50:250, 10:-10]\n",
    "    gray_image = cv2.cvtColor(header, cv2.COLOR_BGR2GRAY)\n",
    "    _, binary_image = cv2.threshold(gray_image, 245, 255, cv2.THRESH_BINARY)\n",
    "    gray_image_inv = cv2.bitwise_not(binary_image)\n",
    "    pil_image = Image.fromarray(gray_image_inv)\n",
    "    # OCR\n",
    "    tools = pyocr.get_available_tools()\n",
    "    tool = tools[0]\n",
    "    txt = tool.image_to_string(\n",
    "        pil_image,\n",
    "        lang=\"jpn\",\n",
    "        builder=pyocr.builders.TextBuilder(tesseract_layout=6)\n",
    "    )\n",
    "    filtered_text = re.findall(r'\\d+', txt)\n",
    "    if len(filtered_text) > 0:\n",
    "            if len(filtered_text[0]) == 4:\n",
    "                    path_save = path + \"renamed/2010_\" + filtered_text[0] + \".png\"\n",
    "                    cv2.imwrite(f\"{path_save}\", img)"
   ]
  }
 ],
 "metadata": {
  "kernelspec": {
   "display_name": "org_chart",
   "language": "python",
   "name": "python3"
  },
  "language_info": {
   "codemirror_mode": {
    "name": "ipython",
    "version": 3
   },
   "file_extension": ".py",
   "mimetype": "text/x-python",
   "name": "python",
   "nbconvert_exporter": "python",
   "pygments_lexer": "ipython3",
   "version": "3.11.9"
  }
 },
 "nbformat": 4,
 "nbformat_minor": 2
}
